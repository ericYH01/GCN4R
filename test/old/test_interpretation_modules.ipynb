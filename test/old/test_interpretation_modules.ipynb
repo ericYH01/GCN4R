{
 "cells": [
  {
   "cell_type": "code",
   "execution_count": 1,
   "metadata": {},
   "outputs": [],
   "source": [
    "#! cd .. && pip install . --upgrade && cd -\n"
   ]
  },
  {
   "cell_type": "code",
   "execution_count": 10,
   "metadata": {},
   "outputs": [],
   "source": [
    "import pandas as pd, numpy as np, scipy.sparse as sps\n",
    "pd.DataFrame(sps.load_npz(\"../gcn4r/data/A_lawyer.npz\").todense()).to_csv(\"A_lawyer.csv\")\n",
    "pd.DataFrame(np.load(\"../gcn4r/data/X_lawyer.npy\",allow_pickle=True)).to_csv(\"X_lawyer.csv\")\n",
    "\n",
    "\n"
   ]
  },
  {
   "cell_type": "code",
   "execution_count": 2,
   "metadata": {},
   "outputs": [
    {
     "name": "stderr",
     "output_type": "stream",
     "text": [
      "/anaconda2/envs/gcn4r/lib/python3.7/site-packages/gcn4r/models.py:136: UserWarning:\n",
      "\n",
      "nn.init.xavier_uniform is now deprecated in favor of nn.init.xavier_uniform_.\n",
      "\n",
      "Explain node 10: 100%|██████████| 100/100 [00:00<00:00, 213.69it/s]\n",
      "Explain node 15: 100%|██████████| 100/100 [00:00<00:00, 215.95it/s]\n",
      "Explain node 16: 100%|██████████| 100/100 [00:00<00:00, 198.89it/s]\n"
     ]
    }
   ],
   "source": [
    "import sys\n",
    "from gcn4r.api import get_data_model\n",
    "from gcn4r.api import interpret_model\n",
    "kwargs=dict(custom_dataset='lawyer',\n",
    "\t\t\t\t\ttask='clustering',\n",
    "\t\t\t\t\trandom_seed=42,\n",
    "\t\t\t\t\tsparse_matrix=None,\n",
    "\t\t\t\t\tfeature_matrix=None,\n",
    "\t\t\t\t\tinitialize_spectral=False,\n",
    "\t\t\t\t\tencoder_base='GCNConv',\n",
    "\t\t\t\t\tn_hidden=30,\n",
    "\t\t\t\t\tdiscriminator_layers=[20,20],\n",
    "\t\t\t\t\tae_type='ARGA',\n",
    "\t\t\t\t\tbias=True,\n",
    "\t\t\t\t\tattention_heads=1,\n",
    "\t\t\t\t\tdecoder_type='inner',\n",
    "\t\t\t\t\tuse_mincut=True,n_layers=2,\n",
    "\t\t\t\t\tK=3,\n",
    "\t\t\t\t\tNiter=10,\n",
    "\t\t\t\t\tval_ratio=0.1,\n",
    "\t\t\t\t\ttest_ratio=0.1,\n",
    "\t\t\t\t\tmodel_save_loc='saved_model.pkl', mode='gnn_explainer', prediction_column=2,node_idx=[10,15,16])\n",
    "attribute=interpret_model(**kwargs)"
   ]
  },
  {
   "cell_type": "code",
   "execution_count": 19,
   "metadata": {},
   "outputs": [
    {
     "data": {
      "text/plain": [
       "0.9222376512596707"
      ]
     },
     "execution_count": 19,
     "metadata": {},
     "output_type": "execute_result"
    }
   ],
   "source": [
    "import networkx as nx\n",
    "(nx.convert_matrix.to_numpy_matrix(attribute[16])==nx.convert_matrix.to_numpy_matrix(attribute[10])).mean()#['att']"
   ]
  },
  {
   "cell_type": "code",
   "execution_count": 16,
   "metadata": {},
   "outputs": [
    {
     "data": {
      "text/plain": [
       "0.29855187462805"
      ]
     },
     "execution_count": 16,
     "metadata": {},
     "output_type": "execute_result"
    }
   ],
   "source": [
    "nx.convert_matrix.to_numpy_matrix(attribute[16]).mean()#['att']"
   ]
  },
  {
   "cell_type": "code",
   "execution_count": 17,
   "metadata": {},
   "outputs": [
    {
     "data": {
      "text/plain": [
       "0.29855187462805"
      ]
     },
     "execution_count": 17,
     "metadata": {},
     "output_type": "execute_result"
    }
   ],
   "source": [
    "nx.convert_matrix.to_numpy_matrix(attribute[15]).mean()#['att']"
   ]
  },
  {
   "cell_type": "code",
   "execution_count": 9,
   "metadata": {},
   "outputs": [],
   "source": [
    "attribute[10].savefig('t.png')"
   ]
  },
  {
   "cell_type": "code",
   "execution_count": 7,
   "metadata": {},
   "outputs": [],
   "source": [
    "import matplotlib.pyplot as plt\n",
    "plt.show(attribute[16])"
   ]
  },
  {
   "cell_type": "code",
   "execution_count": 3,
   "metadata": {},
   "outputs": [
    {
     "name": "stdout",
     "output_type": "stream",
     "text": [
      "(71, 71)\n",
      "       0     1    2    3    4    5    6    7    8    9   10   11\n",
      "0   31.0  64.0  1.0  0.0  1.0  0.0  0.0  1.0  0.0  1.0  0.0  0.0\n",
      "1   32.0  62.0  1.0  0.0  1.0  0.0  0.0  0.0  1.0  1.0  0.0  0.0\n",
      "2   13.0  67.0  1.0  0.0  0.0  1.0  0.0  1.0  0.0  1.0  0.0  0.0\n",
      "3   31.0  59.0  1.0  0.0  1.0  0.0  0.0  0.0  1.0  0.0  0.0  1.0\n",
      "4   31.0  59.0  1.0  0.0  0.0  1.0  0.0  1.0  0.0  0.0  1.0  0.0\n",
      "..   ...   ...  ...  ...  ...  ...  ...  ...  ...  ...  ...  ...\n",
      "66   1.0  35.0  0.0  1.0  1.0  0.0  0.0  1.0  0.0  0.0  1.0  0.0\n",
      "67   1.0  26.0  0.0  1.0  1.0  0.0  0.0  1.0  0.0  0.0  0.0  1.0\n",
      "68   1.0  38.0  0.0  1.0  1.0  0.0  0.0  1.0  0.0  0.0  0.0  1.0\n",
      "69   1.0  31.0  0.0  1.0  1.0  0.0  0.0  0.0  1.0  0.0  1.0  0.0\n",
      "70   1.0  26.0  0.0  1.0  1.0  0.0  0.0  1.0  0.0  0.0  1.0  0.0\n",
      "\n",
      "[71 rows x 12 columns]\n",
      "[[31. 64.  0.  1.  0.  0.  1.  0.  1.  0.  0.]\n",
      " [32. 62.  0.  1.  0.  0.  0.  1.  1.  0.  0.]\n",
      " [13. 67.  0.  0.  1.  0.  1.  0.  1.  0.  0.]\n",
      " [31. 59.  0.  1.  0.  0.  0.  1.  0.  0.  1.]\n",
      " [31. 59.  0.  0.  1.  0.  1.  0.  0.  1.  0.]\n",
      " [29. 55.  0.  0.  1.  0.  1.  0.  1.  0.  0.]\n",
      " [29. 63.  0.  0.  1.  0.  0.  1.  0.  0.  1.]\n",
      " [28. 53.  0.  1.  0.  0.  1.  0.  0.  0.  1.]\n",
      " [25. 53.  0.  1.  0.  0.  0.  1.  1.  0.  0.]\n",
      " [25. 53.  0.  1.  0.  0.  0.  1.  0.  0.  1.]\n",
      " [23. 50.  0.  1.  0.  0.  1.  0.  1.  0.  0.]\n",
      " [24. 52.  0.  1.  0.  0.  0.  1.  0.  1.  0.]\n",
      " [22. 57.  0.  1.  0.  0.  1.  0.  0.  1.  0.]\n",
      " [ 1. 56.  0.  0.  1.  0.  0.  1.  1.  0.  0.]\n",
      " [21. 48.  0.  0.  0.  1.  0.  1.  0.  0.  1.]\n",
      " [20. 46.  0.  1.  0.  0.  0.  1.  1.  0.  0.]\n",
      " [23. 50.  0.  1.  0.  0.  0.  1.  1.  0.  0.]\n",
      " [18. 45.  0.  0.  1.  0.  1.  0.  0.  1.  0.]\n",
      " [19. 46.  0.  1.  0.  0.  0.  1.  1.  0.  0.]\n",
      " [19. 49.  0.  1.  0.  0.  1.  0.  1.  0.  0.]\n",
      " [17. 43.  0.  1.  0.  0.  1.  0.  0.  1.  0.]\n",
      " [ 9. 49.  0.  1.  0.  0.  1.  0.  0.  0.  1.]\n",
      " [16. 45.  0.  1.  0.  0.  1.  0.  0.  1.  0.]\n",
      " [15. 44.  0.  1.  0.  0.  1.  0.  0.  1.  0.]\n",
      " [15. 43.  0.  0.  1.  0.  0.  1.  0.  1.  0.]\n",
      " [15. 41.  0.  1.  0.  0.  1.  0.  0.  0.  1.]\n",
      " [13. 47.  0.  1.  0.  0.  1.  0.  1.  0.  0.]\n",
      " [11. 38.  0.  0.  1.  0.  0.  1.  0.  1.  0.]\n",
      " [10. 38.  0.  1.  0.  0.  0.  1.  0.  0.  1.]\n",
      " [ 7. 39.  0.  0.  1.  0.  1.  0.  0.  0.  1.]\n",
      " [ 8. 34.  0.  0.  1.  0.  1.  0.  0.  1.  0.]\n",
      " [ 8. 33.  0.  0.  1.  0.  1.  0.  0.  0.  1.]\n",
      " [ 8. 37.  0.  0.  1.  0.  1.  0.  0.  0.  1.]\n",
      " [ 8. 36.  0.  1.  0.  0.  0.  1.  0.  1.  0.]\n",
      " [ 8. 33.  0.  0.  1.  0.  0.  1.  0.  0.  1.]\n",
      " [ 5. 43.  0.  1.  0.  0.  1.  0.  0.  0.  1.]\n",
      " [ 5. 44.  1.  0.  0.  1.  0.  1.  0.  0.  1.]\n",
      " [ 7. 53.  1.  1.  0.  0.  1.  0.  0.  1.  0.]\n",
      " [ 6. 37.  1.  1.  0.  0.  1.  0.  1.  0.  0.]\n",
      " [ 6. 34.  1.  1.  0.  0.  1.  0.  1.  0.  0.]\n",
      " [ 5. 31.  1.  1.  0.  0.  1.  0.  0.  1.  0.]\n",
      " [ 4. 31.  1.  1.  0.  0.  0.  1.  0.  1.  0.]\n",
      " [ 5. 47.  1.  1.  0.  0.  1.  0.  0.  1.  0.]\n",
      " [ 5. 53.  1.  0.  0.  1.  0.  1.  1.  0.  0.]\n",
      " [ 3. 38.  1.  1.  0.  0.  0.  1.  0.  0.  1.]\n",
      " [ 3. 42.  1.  0.  1.  0.  0.  1.  0.  1.  0.]\n",
      " [ 3. 38.  1.  0.  0.  1.  1.  0.  0.  0.  1.]\n",
      " [ 1. 35.  1.  1.  0.  0.  0.  1.  0.  0.  1.]\n",
      " [ 4. 36.  1.  1.  0.  0.  1.  0.  0.  1.  0.]\n",
      " [ 3. 31.  1.  0.  1.  0.  0.  1.  0.  1.  0.]\n",
      " [ 4. 29.  1.  0.  1.  0.  1.  0.  0.  0.  1.]\n",
      " [ 4. 29.  1.  1.  0.  0.  1.  0.  0.  0.  1.]\n",
      " [10. 38.  1.  1.  0.  0.  0.  1.  0.  0.  1.]\n",
      " [ 3. 29.  1.  1.  0.  0.  1.  0.  0.  0.  1.]\n",
      " [ 3. 34.  1.  1.  0.  0.  1.  0.  0.  0.  1.]\n",
      " [ 3. 38.  1.  1.  0.  0.  1.  0.  0.  1.  0.]\n",
      " [ 3. 33.  1.  1.  0.  0.  1.  0.  0.  1.  0.]\n",
      " [ 3. 33.  1.  0.  1.  0.  1.  0.  0.  0.  1.]\n",
      " [ 2. 30.  1.  0.  1.  0.  1.  0.  0.  1.  0.]\n",
      " [ 2. 31.  1.  1.  0.  0.  0.  1.  0.  1.  0.]\n",
      " [ 2. 34.  1.  1.  0.  0.  0.  1.  0.  0.  1.]\n",
      " [ 2. 32.  1.  1.  0.  0.  0.  1.  0.  1.  0.]\n",
      " [ 2. 29.  1.  0.  1.  0.  0.  1.  0.  1.  0.]\n",
      " [ 2. 45.  1.  1.  0.  0.  0.  1.  0.  1.  0.]\n",
      " [ 2. 28.  1.  1.  0.  0.  1.  0.  0.  0.  1.]\n",
      " [ 1. 43.  1.  1.  0.  0.  1.  0.  0.  0.  1.]\n",
      " [ 1. 35.  1.  1.  0.  0.  1.  0.  0.  1.  0.]\n",
      " [ 1. 26.  1.  1.  0.  0.  1.  0.  0.  0.  1.]\n",
      " [ 1. 38.  1.  1.  0.  0.  1.  0.  0.  0.  1.]\n",
      " [ 1. 31.  1.  1.  0.  0.  0.  1.  0.  1.  0.]\n",
      " [ 1. 26.  1.  1.  0.  0.  1.  0.  0.  1.  0.]] [1. 1. 1. 1. 1. 1. 1. 1. 1. 1. 1. 1. 1. 1. 1. 1. 1. 1. 1. 1. 1. 1. 1. 1.\n",
      " 1. 1. 1. 1. 1. 1. 1. 1. 1. 1. 1. 1. 0. 0. 0. 0. 0. 0. 0. 0. 0. 0. 0. 0.\n",
      " 0. 0. 0. 0. 0. 0. 0. 0. 0. 0. 0. 0. 0. 0. 0. 0. 0. 0. 0. 0. 0. 0. 0.]\n"
     ]
    },
    {
     "name": "stderr",
     "output_type": "stream",
     "text": [
      "/anaconda2/envs/gcn4r/lib/python3.7/site-packages/gcn4r/api.py:250: SettingWithCopyWarning:\n",
      "\n",
      "\n",
      "A value is trying to be set on a copy of a slice from a DataFrame.\n",
      "Try using .loc[row_indexer,col_indexer] = value instead\n",
      "\n",
      "See the caveats in the documentation: http://pandas.pydata.org/pandas-docs/stable/user_guide/indexing.html#returning-a-view-versus-a-copy\n",
      "\n",
      "/anaconda2/envs/gcn4r/lib/python3.7/site-packages/gcn4r/models.py:126: UserWarning:\n",
      "\n",
      "nn.init.xavier_uniform is now deprecated in favor of nn.init.xavier_uniform_.\n",
      "\n"
     ]
    },
    {
     "ename": "RuntimeError",
     "evalue": "Error(s) in loading state_dict for ARGVA:\n\tMissing key(s) in state_dict: \"encoder.convs.2.weight\", \"encoder.convs.2.att\", \"encoder.convs.2.bias\", \"encoder.classification_layer.weight\", \"encoder.classification_layer.bias\", \"encoder.conv_mu.weight\", \"encoder.conv_mu.att\", \"encoder.conv_mu.bias\", \"encoder.conv_logvar.weight\", \"encoder.conv_logvar.att\", \"encoder.conv_logvar.bias\", \"VGAE.encoder.convs.0.weight\", \"VGAE.encoder.convs.0.att\", \"VGAE.encoder.convs.0.bias\", \"VGAE.encoder.convs.1.weight\", \"VGAE.encoder.convs.1.att\", \"VGAE.encoder.convs.1.bias\", \"VGAE.encoder.convs.2.weight\", \"VGAE.encoder.convs.2.att\", \"VGAE.encoder.convs.2.bias\", \"VGAE.encoder.pool1.weight\", \"VGAE.encoder.pool1.bias\", \"VGAE.encoder.classification_layer.weight\", \"VGAE.encoder.classification_layer.bias\", \"VGAE.encoder.conv_mu.weight\", \"VGAE.encoder.conv_mu.att\", \"VGAE.encoder.conv_mu.bias\", \"VGAE.encoder.conv_logvar.weight\", \"VGAE.encoder.conv_logvar.att\", \"VGAE.encoder.conv_logvar.bias\". \n\tsize mismatch for encoder.convs.0.weight: copying a param with shape torch.Size([12, 30]) from checkpoint, the shape in current model is torch.Size([11, 30]).",
     "output_type": "error",
     "traceback": [
      "\u001b[0;31m---------------------------------------------------------------------------\u001b[0m",
      "\u001b[0;31mRuntimeError\u001b[0m                              Traceback (most recent call last)",
      "\u001b[0;32m<ipython-input-3-eab472923d02>\u001b[0m in \u001b[0;36m<module>\u001b[0;34m\u001b[0m\n\u001b[1;32m     21\u001b[0m                                         \u001b[0mtest_ratio\u001b[0m\u001b[0;34m=\u001b[0m\u001b[0;36m0.1\u001b[0m\u001b[0;34m,\u001b[0m\u001b[0;34m\u001b[0m\u001b[0;34m\u001b[0m\u001b[0m\n\u001b[1;32m     22\u001b[0m \t\t\t\t\tmodel_save_loc='saved_model.pkl', mode='attention', prediction_column=2)\n\u001b[0;32m---> 23\u001b[0;31m \u001b[0mattribute\u001b[0m\u001b[0;34m=\u001b[0m\u001b[0minterpret_model\u001b[0m\u001b[0;34m(\u001b[0m\u001b[0;34m**\u001b[0m\u001b[0mkwargs\u001b[0m\u001b[0;34m)\u001b[0m\u001b[0;34m\u001b[0m\u001b[0;34m\u001b[0m\u001b[0m\n\u001b[0m",
      "\u001b[0;32m/anaconda2/envs/gcn4r/lib/python3.7/site-packages/gcn4r/api.py\u001b[0m in \u001b[0;36minterpret_model\u001b[0;34m(custom_dataset, task, random_seed, sparse_matrix, feature_matrix, initialize_spectral, encoder_base, n_hidden, n_layers, discriminator_layers, ae_type, bias, attention_heads, decoder_type, use_mincut, K, Niter, val_ratio, test_ratio, model_save_loc, prediction_column, mode, method, **kwargs)\u001b[0m\n\u001b[1;32m    447\u001b[0m                                                                                                         \u001b[0mprediction_column\u001b[0m\u001b[0;34m=\u001b[0m\u001b[0mprediction_column\u001b[0m\u001b[0;34m\u001b[0m\u001b[0;34m\u001b[0m\u001b[0m\n\u001b[1;32m    448\u001b[0m \t\t\t\t\t\t\t\t\t\t\t\t\t)\n\u001b[0;32m--> 449\u001b[0;31m         \u001b[0mmodel\u001b[0m\u001b[0;34m.\u001b[0m\u001b[0mload_state_dict\u001b[0m\u001b[0;34m(\u001b[0m\u001b[0mtorch\u001b[0m\u001b[0;34m.\u001b[0m\u001b[0mload\u001b[0m\u001b[0;34m(\u001b[0m\u001b[0mmodel_save_loc\u001b[0m\u001b[0;34m)\u001b[0m\u001b[0;34m)\u001b[0m\u001b[0;34m\u001b[0m\u001b[0;34m\u001b[0m\u001b[0m\n\u001b[0m\u001b[1;32m    450\u001b[0m         \u001b[0mmodel\u001b[0m\u001b[0;34m.\u001b[0m\u001b[0mtrain\u001b[0m\u001b[0;34m(\u001b[0m\u001b[0;32mFalse\u001b[0m\u001b[0;34m)\u001b[0m\u001b[0;34m\u001b[0m\u001b[0;34m\u001b[0m\u001b[0m\n\u001b[1;32m    451\u001b[0m         \u001b[0mmodel\u001b[0m\u001b[0;34m.\u001b[0m\u001b[0mencoder\u001b[0m\u001b[0;34m.\u001b[0m\u001b[0mtoggle_kmeans\u001b[0m\u001b[0;34m(\u001b[0m\u001b[0;34m)\u001b[0m\u001b[0;34m\u001b[0m\u001b[0;34m\u001b[0m\u001b[0m\n",
      "\u001b[0;32m/anaconda2/envs/gcn4r/lib/python3.7/site-packages/torch/nn/modules/module.py\u001b[0m in \u001b[0;36mload_state_dict\u001b[0;34m(self, state_dict, strict)\u001b[0m\n\u001b[1;32m    828\u001b[0m         \u001b[0;32mif\u001b[0m \u001b[0mlen\u001b[0m\u001b[0;34m(\u001b[0m\u001b[0merror_msgs\u001b[0m\u001b[0;34m)\u001b[0m \u001b[0;34m>\u001b[0m \u001b[0;36m0\u001b[0m\u001b[0;34m:\u001b[0m\u001b[0;34m\u001b[0m\u001b[0;34m\u001b[0m\u001b[0m\n\u001b[1;32m    829\u001b[0m             raise RuntimeError('Error(s) in loading state_dict for {}:\\n\\t{}'.format(\n\u001b[0;32m--> 830\u001b[0;31m                                self.__class__.__name__, \"\\n\\t\".join(error_msgs)))\n\u001b[0m\u001b[1;32m    831\u001b[0m         \u001b[0;32mreturn\u001b[0m \u001b[0m_IncompatibleKeys\u001b[0m\u001b[0;34m(\u001b[0m\u001b[0mmissing_keys\u001b[0m\u001b[0;34m,\u001b[0m \u001b[0munexpected_keys\u001b[0m\u001b[0;34m)\u001b[0m\u001b[0;34m\u001b[0m\u001b[0;34m\u001b[0m\u001b[0m\n\u001b[1;32m    832\u001b[0m \u001b[0;34m\u001b[0m\u001b[0m\n",
      "\u001b[0;31mRuntimeError\u001b[0m: Error(s) in loading state_dict for ARGVA:\n\tMissing key(s) in state_dict: \"encoder.convs.2.weight\", \"encoder.convs.2.att\", \"encoder.convs.2.bias\", \"encoder.classification_layer.weight\", \"encoder.classification_layer.bias\", \"encoder.conv_mu.weight\", \"encoder.conv_mu.att\", \"encoder.conv_mu.bias\", \"encoder.conv_logvar.weight\", \"encoder.conv_logvar.att\", \"encoder.conv_logvar.bias\", \"VGAE.encoder.convs.0.weight\", \"VGAE.encoder.convs.0.att\", \"VGAE.encoder.convs.0.bias\", \"VGAE.encoder.convs.1.weight\", \"VGAE.encoder.convs.1.att\", \"VGAE.encoder.convs.1.bias\", \"VGAE.encoder.convs.2.weight\", \"VGAE.encoder.convs.2.att\", \"VGAE.encoder.convs.2.bias\", \"VGAE.encoder.pool1.weight\", \"VGAE.encoder.pool1.bias\", \"VGAE.encoder.classification_layer.weight\", \"VGAE.encoder.classification_layer.bias\", \"VGAE.encoder.conv_mu.weight\", \"VGAE.encoder.conv_mu.att\", \"VGAE.encoder.conv_mu.bias\", \"VGAE.encoder.conv_logvar.weight\", \"VGAE.encoder.conv_logvar.att\", \"VGAE.encoder.conv_logvar.bias\". \n\tsize mismatch for encoder.convs.0.weight: copying a param with shape torch.Size([12, 30]) from checkpoint, the shape in current model is torch.Size([11, 30])."
     ]
    }
   ],
   "source": [
    "import sys\n",
    "from gcn4r.api import get_data_model\n",
    "from gcn4r.api import interpret_model\n",
    "kwargs=dict(custom_dataset='lawyer',\n",
    "\t\t\t\t\ttask='clustering',\n",
    "\t\t\t\t\trandom_seed=42,\n",
    "\t\t\t\t\tsparse_matrix=None,\n",
    "\t\t\t\t\tfeature_matrix=None,\n",
    "\t\t\t\t\tinitialize_spectral=False,\n",
    "\t\t\t\t\tencoder_base='GATConv',\n",
    "\t\t\t\t\tn_hidden=30,\n",
    "\t\t\t\t\tdiscriminator_layers=[20,20],\n",
    "\t\t\t\t\tae_type='ARGVA',\n",
    "\t\t\t\t\tbias=True,\n",
    "\t\t\t\t\tattention_heads=1,\n",
    "\t\t\t\t\tdecoder_type='inner',\n",
    "\t\t\t\t\tuse_mincut=True,n_layers=2,\n",
    "\t\t\t\t\tK=3,\n",
    "\t\t\t\t\tNiter=10,\n",
    "\t\t\t\t\tval_ratio=0.1,\n",
    "\t\t\t\t\ttest_ratio=0.1,\n",
    "\t\t\t\t\tmodel_save_loc='saved_model.pkl', mode='attention', prediction_column=2)\n",
    "attribute=interpret_model(**kwargs)"
   ]
  },
  {
   "cell_type": "code",
   "execution_count": 9,
   "metadata": {},
   "outputs": [],
   "source": [
    "# attribute#[1]"
   ]
  },
  {
   "cell_type": "code",
   "execution_count": 10,
   "metadata": {},
   "outputs": [],
   "source": [
    "import numpy as np\n",
    "import networkx as nx\n",
    "from scipy.sparse import csr_matrix\n",
    "#nx.Graph([(int(x[0]),int(x[1]),x[2]) for x in np.hstack([,]).tolist()])"
   ]
  },
  {
   "cell_type": "code",
   "execution_count": 11,
   "metadata": {},
   "outputs": [],
   "source": [
    "import matplotlib, seaborn as sns, numpy as np\n",
    "matplotlib.rcParams['figure.dpi']=300\n",
    "sns.set(style='white')\n",
    "%matplotlib inline\n",
    "import matplotlib.pyplot as plt\n",
    "import networkx as nx\n",
    "def visualize_attention_map(attribute,i,clustermap=False, symmetrize=False,y=None):\n",
    "    edge=attribute[i]['edge_index'].T\n",
    "    N=edge.max()+1\n",
    "    attn_scores=attribute[i]['coef'].detach().numpy()\n",
    "    G=csr_matrix((attn_scores.flatten(), (edge[:,0].flatten(), edge[:,1].flatten())), shape=(N, N))\n",
    "    if symmetrize:\n",
    "        G=(G+G.T)/2.\n",
    "    plt.figure(figsize=(7,7))\n",
    "    if clustermap:\n",
    "        sns.clustermap(G.todense())\n",
    "    else:\n",
    "        sns.heatmap(G.todense())\n",
    "    plt.figure(figsize=(18,18))\n",
    "    G_new=nx.Graph(G)\n",
    "    pos = nx.spring_layout(G_new, seed=1)\n",
    "    print(G.data)\n",
    "    #cmap=sns.cubehelix_palette(rot=.3,reverse=True,as_cmap=True)\n",
    "    cmap=plt.get_cmap('coolwarm')\n",
    "    nx.draw_networkx(G_new, pos=pos, node_size=50, cmap=plt.get_cmap('coolwarm'),\n",
    "                     node_color=y, edge_color=[cmap(w) for w in G.data/G.data.max()*2],#'k',\n",
    "                     arrows=False, width=G.data*25, style='solid', with_labels=False)\n",
    "    sns.despine()\n"
   ]
  },
  {
   "cell_type": "code",
   "execution_count": 15,
   "metadata": {},
   "outputs": [],
   "source": [
    "import torch\n",
    "y=torch.load('predictions.pkl')['y']"
   ]
  },
  {
   "cell_type": "code",
   "execution_count": 16,
   "metadata": {},
   "outputs": [
    {
     "data": {
      "text/plain": [
       "tensor([[0.4397],\n",
       "        [0.4500],\n",
       "        [0.4353],\n",
       "        [0.4418],\n",
       "        [0.4084],\n",
       "        [0.4175],\n",
       "        [0.4365],\n",
       "        [0.4404],\n",
       "        [0.4520],\n",
       "        [0.4533],\n",
       "        [0.4374],\n",
       "        [0.4402],\n",
       "        [0.4380],\n",
       "        [0.4304],\n",
       "        [0.4318],\n",
       "        [0.4413],\n",
       "        [0.4462],\n",
       "        [0.4000],\n",
       "        [0.4420],\n",
       "        [0.4334],\n",
       "        [0.4372],\n",
       "        [0.4355],\n",
       "        [0.4329],\n",
       "        [0.4378],\n",
       "        [0.4292],\n",
       "        [0.4355],\n",
       "        [0.4390],\n",
       "        [0.4276],\n",
       "        [0.4496],\n",
       "        [0.4221],\n",
       "        [0.4094],\n",
       "        [0.4049],\n",
       "        [0.4123],\n",
       "        [0.4473],\n",
       "        [0.4149],\n",
       "        [0.4383],\n",
       "        [0.4367],\n",
       "        [0.4305],\n",
       "        [0.4325],\n",
       "        [0.4381],\n",
       "        [0.4344],\n",
       "        [0.4397],\n",
       "        [0.4389],\n",
       "        [0.4507],\n",
       "        [0.4521],\n",
       "        [0.4335],\n",
       "        [0.4335],\n",
       "        [0.4470],\n",
       "        [0.4365],\n",
       "        [0.4071],\n",
       "        [0.4088],\n",
       "        [0.4345],\n",
       "        [0.4532],\n",
       "        [0.4286],\n",
       "        [0.4362],\n",
       "        [0.4391],\n",
       "        [0.4342],\n",
       "        [0.4026],\n",
       "        [0.3837],\n",
       "        [0.4487],\n",
       "        [0.4814],\n",
       "        [0.4429],\n",
       "        [0.4019],\n",
       "        [0.4536],\n",
       "        [0.4377],\n",
       "        [0.4389],\n",
       "        [0.4386],\n",
       "        [0.4421],\n",
       "        [0.4510],\n",
       "        [0.4447],\n",
       "        [0.4380]])"
      ]
     },
     "execution_count": 16,
     "metadata": {},
     "output_type": "execute_result"
    }
   ],
   "source": [
    "# attribute\n",
    "y # add colors for regression"
   ]
  },
  {
   "cell_type": "code",
   "execution_count": 17,
   "metadata": {},
   "outputs": [
    {
     "name": "stdout",
     "output_type": "stream",
     "text": [
      "[5.86172342e-01 6.22864246e-01 5.06896675e-01 ... 3.70807829e-03\n",
      " 1.44650048e-05 9.87565474e-10]\n"
     ]
    },
    {
     "ename": "ValueError",
     "evalue": "'c' argument has 71 elements, which is not acceptable for use with 'x' with size 71, 'y' with size 71.",
     "output_type": "error",
     "traceback": [
      "\u001b[0;31m---------------------------------------------------------------------------\u001b[0m",
      "\u001b[0;31mValueError\u001b[0m                                Traceback (most recent call last)",
      "\u001b[0;32m/anaconda2/envs/gcn4r/lib/python3.7/site-packages/matplotlib/axes/_axes.py\u001b[0m in \u001b[0;36m_parse_scatter_color_args\u001b[0;34m(c, edgecolors, kwargs, xshape, yshape, get_next_color_func)\u001b[0m\n\u001b[1;32m   4283\u001b[0m             \u001b[0;32mtry\u001b[0m\u001b[0;34m:\u001b[0m  \u001b[0;31m# Then is 'c' acceptable as PathCollection facecolors?\u001b[0m\u001b[0;34m\u001b[0m\u001b[0;34m\u001b[0m\u001b[0m\n\u001b[0;32m-> 4284\u001b[0;31m                 \u001b[0mcolors\u001b[0m \u001b[0;34m=\u001b[0m \u001b[0mmcolors\u001b[0m\u001b[0;34m.\u001b[0m\u001b[0mto_rgba_array\u001b[0m\u001b[0;34m(\u001b[0m\u001b[0mc\u001b[0m\u001b[0;34m)\u001b[0m\u001b[0;34m\u001b[0m\u001b[0;34m\u001b[0m\u001b[0m\n\u001b[0m\u001b[1;32m   4285\u001b[0m                 \u001b[0mn_elem\u001b[0m \u001b[0;34m=\u001b[0m \u001b[0mcolors\u001b[0m\u001b[0;34m.\u001b[0m\u001b[0mshape\u001b[0m\u001b[0;34m[\u001b[0m\u001b[0;36m0\u001b[0m\u001b[0;34m]\u001b[0m\u001b[0;34m\u001b[0m\u001b[0;34m\u001b[0m\u001b[0m\n",
      "\u001b[0;32m/anaconda2/envs/gcn4r/lib/python3.7/site-packages/matplotlib/colors.py\u001b[0m in \u001b[0;36mto_rgba_array\u001b[0;34m(c, alpha)\u001b[0m\n\u001b[1;32m    293\u001b[0m     \u001b[0;32mfor\u001b[0m \u001b[0mi\u001b[0m\u001b[0;34m,\u001b[0m \u001b[0mcc\u001b[0m \u001b[0;32min\u001b[0m \u001b[0menumerate\u001b[0m\u001b[0;34m(\u001b[0m\u001b[0mc\u001b[0m\u001b[0;34m)\u001b[0m\u001b[0;34m:\u001b[0m\u001b[0;34m\u001b[0m\u001b[0;34m\u001b[0m\u001b[0m\n\u001b[0;32m--> 294\u001b[0;31m         \u001b[0mresult\u001b[0m\u001b[0;34m[\u001b[0m\u001b[0mi\u001b[0m\u001b[0;34m]\u001b[0m \u001b[0;34m=\u001b[0m \u001b[0mto_rgba\u001b[0m\u001b[0;34m(\u001b[0m\u001b[0mcc\u001b[0m\u001b[0;34m,\u001b[0m \u001b[0malpha\u001b[0m\u001b[0;34m)\u001b[0m\u001b[0;34m\u001b[0m\u001b[0;34m\u001b[0m\u001b[0m\n\u001b[0m\u001b[1;32m    295\u001b[0m     \u001b[0;32mreturn\u001b[0m \u001b[0mresult\u001b[0m\u001b[0;34m\u001b[0m\u001b[0;34m\u001b[0m\u001b[0m\n",
      "\u001b[0;32m/anaconda2/envs/gcn4r/lib/python3.7/site-packages/matplotlib/colors.py\u001b[0m in \u001b[0;36mto_rgba\u001b[0;34m(c, alpha)\u001b[0m\n\u001b[1;32m    176\u001b[0m     \u001b[0;32mif\u001b[0m \u001b[0mrgba\u001b[0m \u001b[0;32mis\u001b[0m \u001b[0;32mNone\u001b[0m\u001b[0;34m:\u001b[0m  \u001b[0;31m# Suppress exception chaining of cache lookup failure.\u001b[0m\u001b[0;34m\u001b[0m\u001b[0;34m\u001b[0m\u001b[0m\n\u001b[0;32m--> 177\u001b[0;31m         \u001b[0mrgba\u001b[0m \u001b[0;34m=\u001b[0m \u001b[0m_to_rgba_no_colorcycle\u001b[0m\u001b[0;34m(\u001b[0m\u001b[0mc\u001b[0m\u001b[0;34m,\u001b[0m \u001b[0malpha\u001b[0m\u001b[0;34m)\u001b[0m\u001b[0;34m\u001b[0m\u001b[0;34m\u001b[0m\u001b[0m\n\u001b[0m\u001b[1;32m    178\u001b[0m         \u001b[0;32mtry\u001b[0m\u001b[0;34m:\u001b[0m\u001b[0;34m\u001b[0m\u001b[0;34m\u001b[0m\u001b[0m\n",
      "\u001b[0;32m/anaconda2/envs/gcn4r/lib/python3.7/site-packages/matplotlib/colors.py\u001b[0m in \u001b[0;36m_to_rgba_no_colorcycle\u001b[0;34m(c, alpha)\u001b[0m\n\u001b[1;32m    243\u001b[0m     \u001b[0;32mif\u001b[0m \u001b[0mlen\u001b[0m\u001b[0;34m(\u001b[0m\u001b[0mc\u001b[0m\u001b[0;34m)\u001b[0m \u001b[0;32mnot\u001b[0m \u001b[0;32min\u001b[0m \u001b[0;34m[\u001b[0m\u001b[0;36m3\u001b[0m\u001b[0;34m,\u001b[0m \u001b[0;36m4\u001b[0m\u001b[0;34m]\u001b[0m\u001b[0;34m:\u001b[0m\u001b[0;34m\u001b[0m\u001b[0;34m\u001b[0m\u001b[0m\n\u001b[0;32m--> 244\u001b[0;31m         \u001b[0;32mraise\u001b[0m \u001b[0mValueError\u001b[0m\u001b[0;34m(\u001b[0m\u001b[0;34m\"RGBA sequence should have length 3 or 4\"\u001b[0m\u001b[0;34m)\u001b[0m\u001b[0;34m\u001b[0m\u001b[0;34m\u001b[0m\u001b[0m\n\u001b[0m\u001b[1;32m    245\u001b[0m     \u001b[0;32mif\u001b[0m \u001b[0mlen\u001b[0m\u001b[0;34m(\u001b[0m\u001b[0mc\u001b[0m\u001b[0;34m)\u001b[0m \u001b[0;34m==\u001b[0m \u001b[0;36m3\u001b[0m \u001b[0;32mand\u001b[0m \u001b[0malpha\u001b[0m \u001b[0;32mis\u001b[0m \u001b[0;32mNone\u001b[0m\u001b[0;34m:\u001b[0m\u001b[0;34m\u001b[0m\u001b[0;34m\u001b[0m\u001b[0m\n",
      "\u001b[0;31mValueError\u001b[0m: RGBA sequence should have length 3 or 4",
      "\nDuring handling of the above exception, another exception occurred:\n",
      "\u001b[0;31mValueError\u001b[0m                                Traceback (most recent call last)",
      "\u001b[0;32m<ipython-input-17-0b851829780d>\u001b[0m in \u001b[0;36m<module>\u001b[0;34m\u001b[0m\n\u001b[1;32m      1\u001b[0m \u001b[0;32mfor\u001b[0m \u001b[0mi\u001b[0m \u001b[0;32min\u001b[0m \u001b[0mrange\u001b[0m\u001b[0;34m(\u001b[0m\u001b[0;36m5\u001b[0m\u001b[0;34m)\u001b[0m\u001b[0;34m:\u001b[0m\u001b[0;34m\u001b[0m\u001b[0;34m\u001b[0m\u001b[0m\n\u001b[0;32m----> 2\u001b[0;31m     \u001b[0mvisualize_attention_map\u001b[0m\u001b[0;34m(\u001b[0m\u001b[0mattribute\u001b[0m\u001b[0;34m,\u001b[0m\u001b[0mi\u001b[0m\u001b[0;34m,\u001b[0m\u001b[0;32mFalse\u001b[0m\u001b[0;34m,\u001b[0m\u001b[0;32mTrue\u001b[0m\u001b[0;34m,\u001b[0m\u001b[0my\u001b[0m\u001b[0;34m=\u001b[0m\u001b[0my\u001b[0m\u001b[0;34m)\u001b[0m\u001b[0;34m\u001b[0m\u001b[0;34m\u001b[0m\u001b[0m\n\u001b[0m",
      "\u001b[0;32m<ipython-input-11-a413f6f42747>\u001b[0m in \u001b[0;36mvisualize_attention_map\u001b[0;34m(attribute, i, clustermap, symmetrize, y)\u001b[0m\n\u001b[1;32m     25\u001b[0m     nx.draw_networkx(G_new, pos=pos, node_size=50, cmap=plt.get_cmap('coolwarm'),\n\u001b[1;32m     26\u001b[0m                      \u001b[0mnode_color\u001b[0m\u001b[0;34m=\u001b[0m\u001b[0my\u001b[0m\u001b[0;34m,\u001b[0m \u001b[0medge_color\u001b[0m\u001b[0;34m=\u001b[0m\u001b[0;34m[\u001b[0m\u001b[0mcmap\u001b[0m\u001b[0;34m(\u001b[0m\u001b[0mw\u001b[0m\u001b[0;34m)\u001b[0m \u001b[0;32mfor\u001b[0m \u001b[0mw\u001b[0m \u001b[0;32min\u001b[0m \u001b[0mG\u001b[0m\u001b[0;34m.\u001b[0m\u001b[0mdata\u001b[0m\u001b[0;34m/\u001b[0m\u001b[0mG\u001b[0m\u001b[0;34m.\u001b[0m\u001b[0mdata\u001b[0m\u001b[0;34m.\u001b[0m\u001b[0mmax\u001b[0m\u001b[0;34m(\u001b[0m\u001b[0;34m)\u001b[0m\u001b[0;34m*\u001b[0m\u001b[0;36m2\u001b[0m\u001b[0;34m]\u001b[0m\u001b[0;34m,\u001b[0m\u001b[0;31m#'k',\u001b[0m\u001b[0;34m\u001b[0m\u001b[0;34m\u001b[0m\u001b[0m\n\u001b[0;32m---> 27\u001b[0;31m                      arrows=False, width=G.data*25, style='solid', with_labels=False)\n\u001b[0m\u001b[1;32m     28\u001b[0m     \u001b[0msns\u001b[0m\u001b[0;34m.\u001b[0m\u001b[0mdespine\u001b[0m\u001b[0;34m(\u001b[0m\u001b[0;34m)\u001b[0m\u001b[0;34m\u001b[0m\u001b[0;34m\u001b[0m\u001b[0m\n",
      "\u001b[0;32m/anaconda2/envs/gcn4r/lib/python3.7/site-packages/networkx/drawing/nx_pylab.py\u001b[0m in \u001b[0;36mdraw_networkx\u001b[0;34m(G, pos, arrows, with_labels, **kwds)\u001b[0m\n\u001b[1;32m    272\u001b[0m         \u001b[0mpos\u001b[0m \u001b[0;34m=\u001b[0m \u001b[0mnx\u001b[0m\u001b[0;34m.\u001b[0m\u001b[0mdrawing\u001b[0m\u001b[0;34m.\u001b[0m\u001b[0mspring_layout\u001b[0m\u001b[0;34m(\u001b[0m\u001b[0mG\u001b[0m\u001b[0;34m)\u001b[0m  \u001b[0;31m# default to spring layout\u001b[0m\u001b[0;34m\u001b[0m\u001b[0;34m\u001b[0m\u001b[0m\n\u001b[1;32m    273\u001b[0m \u001b[0;34m\u001b[0m\u001b[0m\n\u001b[0;32m--> 274\u001b[0;31m     \u001b[0mnode_collection\u001b[0m \u001b[0;34m=\u001b[0m \u001b[0mdraw_networkx_nodes\u001b[0m\u001b[0;34m(\u001b[0m\u001b[0mG\u001b[0m\u001b[0;34m,\u001b[0m \u001b[0mpos\u001b[0m\u001b[0;34m,\u001b[0m \u001b[0;34m**\u001b[0m\u001b[0mkwds\u001b[0m\u001b[0;34m)\u001b[0m\u001b[0;34m\u001b[0m\u001b[0;34m\u001b[0m\u001b[0m\n\u001b[0m\u001b[1;32m    275\u001b[0m     \u001b[0medge_collection\u001b[0m \u001b[0;34m=\u001b[0m \u001b[0mdraw_networkx_edges\u001b[0m\u001b[0;34m(\u001b[0m\u001b[0mG\u001b[0m\u001b[0;34m,\u001b[0m \u001b[0mpos\u001b[0m\u001b[0;34m,\u001b[0m \u001b[0marrows\u001b[0m\u001b[0;34m=\u001b[0m\u001b[0marrows\u001b[0m\u001b[0;34m,\u001b[0m \u001b[0;34m**\u001b[0m\u001b[0mkwds\u001b[0m\u001b[0;34m)\u001b[0m\u001b[0;34m\u001b[0m\u001b[0;34m\u001b[0m\u001b[0m\n\u001b[1;32m    276\u001b[0m     \u001b[0;32mif\u001b[0m \u001b[0mwith_labels\u001b[0m\u001b[0;34m:\u001b[0m\u001b[0;34m\u001b[0m\u001b[0;34m\u001b[0m\u001b[0m\n",
      "\u001b[0;32m/anaconda2/envs/gcn4r/lib/python3.7/site-packages/networkx/drawing/nx_pylab.py\u001b[0m in \u001b[0;36mdraw_networkx_nodes\u001b[0;34m(G, pos, nodelist, node_size, node_color, node_shape, alpha, cmap, vmin, vmax, ax, linewidths, edgecolors, label, **kwds)\u001b[0m\n\u001b[1;32m    415\u001b[0m                                  \u001b[0mlinewidths\u001b[0m\u001b[0;34m=\u001b[0m\u001b[0mlinewidths\u001b[0m\u001b[0;34m,\u001b[0m\u001b[0;34m\u001b[0m\u001b[0;34m\u001b[0m\u001b[0m\n\u001b[1;32m    416\u001b[0m                                  \u001b[0medgecolors\u001b[0m\u001b[0;34m=\u001b[0m\u001b[0medgecolors\u001b[0m\u001b[0;34m,\u001b[0m\u001b[0;34m\u001b[0m\u001b[0;34m\u001b[0m\u001b[0m\n\u001b[0;32m--> 417\u001b[0;31m                                  label=label)\n\u001b[0m\u001b[1;32m    418\u001b[0m     ax.tick_params(\n\u001b[1;32m    419\u001b[0m         \u001b[0maxis\u001b[0m\u001b[0;34m=\u001b[0m\u001b[0;34m'both'\u001b[0m\u001b[0;34m,\u001b[0m\u001b[0;34m\u001b[0m\u001b[0;34m\u001b[0m\u001b[0m\n",
      "\u001b[0;32m/anaconda2/envs/gcn4r/lib/python3.7/site-packages/matplotlib/__init__.py\u001b[0m in \u001b[0;36minner\u001b[0;34m(ax, data, *args, **kwargs)\u001b[0m\n\u001b[1;32m   1597\u001b[0m     \u001b[0;32mdef\u001b[0m \u001b[0minner\u001b[0m\u001b[0;34m(\u001b[0m\u001b[0max\u001b[0m\u001b[0;34m,\u001b[0m \u001b[0;34m*\u001b[0m\u001b[0margs\u001b[0m\u001b[0;34m,\u001b[0m \u001b[0mdata\u001b[0m\u001b[0;34m=\u001b[0m\u001b[0;32mNone\u001b[0m\u001b[0;34m,\u001b[0m \u001b[0;34m**\u001b[0m\u001b[0mkwargs\u001b[0m\u001b[0;34m)\u001b[0m\u001b[0;34m:\u001b[0m\u001b[0;34m\u001b[0m\u001b[0;34m\u001b[0m\u001b[0m\n\u001b[1;32m   1598\u001b[0m         \u001b[0;32mif\u001b[0m \u001b[0mdata\u001b[0m \u001b[0;32mis\u001b[0m \u001b[0;32mNone\u001b[0m\u001b[0;34m:\u001b[0m\u001b[0;34m\u001b[0m\u001b[0;34m\u001b[0m\u001b[0m\n\u001b[0;32m-> 1599\u001b[0;31m             \u001b[0;32mreturn\u001b[0m \u001b[0mfunc\u001b[0m\u001b[0;34m(\u001b[0m\u001b[0max\u001b[0m\u001b[0;34m,\u001b[0m \u001b[0;34m*\u001b[0m\u001b[0mmap\u001b[0m\u001b[0;34m(\u001b[0m\u001b[0msanitize_sequence\u001b[0m\u001b[0;34m,\u001b[0m \u001b[0margs\u001b[0m\u001b[0;34m)\u001b[0m\u001b[0;34m,\u001b[0m \u001b[0;34m**\u001b[0m\u001b[0mkwargs\u001b[0m\u001b[0;34m)\u001b[0m\u001b[0;34m\u001b[0m\u001b[0;34m\u001b[0m\u001b[0m\n\u001b[0m\u001b[1;32m   1600\u001b[0m \u001b[0;34m\u001b[0m\u001b[0m\n\u001b[1;32m   1601\u001b[0m         \u001b[0mbound\u001b[0m \u001b[0;34m=\u001b[0m \u001b[0mnew_sig\u001b[0m\u001b[0;34m.\u001b[0m\u001b[0mbind\u001b[0m\u001b[0;34m(\u001b[0m\u001b[0max\u001b[0m\u001b[0;34m,\u001b[0m \u001b[0;34m*\u001b[0m\u001b[0margs\u001b[0m\u001b[0;34m,\u001b[0m \u001b[0;34m**\u001b[0m\u001b[0mkwargs\u001b[0m\u001b[0;34m)\u001b[0m\u001b[0;34m\u001b[0m\u001b[0;34m\u001b[0m\u001b[0m\n",
      "\u001b[0;32m/anaconda2/envs/gcn4r/lib/python3.7/site-packages/matplotlib/axes/_axes.py\u001b[0m in \u001b[0;36mscatter\u001b[0;34m(self, x, y, s, c, marker, cmap, norm, vmin, vmax, alpha, linewidths, verts, edgecolors, plotnonfinite, **kwargs)\u001b[0m\n\u001b[1;32m   4451\u001b[0m             self._parse_scatter_color_args(\n\u001b[1;32m   4452\u001b[0m                 \u001b[0mc\u001b[0m\u001b[0;34m,\u001b[0m \u001b[0medgecolors\u001b[0m\u001b[0;34m,\u001b[0m \u001b[0mkwargs\u001b[0m\u001b[0;34m,\u001b[0m \u001b[0mxshape\u001b[0m\u001b[0;34m,\u001b[0m \u001b[0myshape\u001b[0m\u001b[0;34m,\u001b[0m\u001b[0;34m\u001b[0m\u001b[0;34m\u001b[0m\u001b[0m\n\u001b[0;32m-> 4453\u001b[0;31m                 get_next_color_func=self._get_patches_for_fill.get_next_color)\n\u001b[0m\u001b[1;32m   4454\u001b[0m \u001b[0;34m\u001b[0m\u001b[0m\n\u001b[1;32m   4455\u001b[0m         \u001b[0;32mif\u001b[0m \u001b[0mplotnonfinite\u001b[0m \u001b[0;32mand\u001b[0m \u001b[0mcolors\u001b[0m \u001b[0;32mis\u001b[0m \u001b[0;32mNone\u001b[0m\u001b[0;34m:\u001b[0m\u001b[0;34m\u001b[0m\u001b[0;34m\u001b[0m\u001b[0m\n",
      "\u001b[0;32m/anaconda2/envs/gcn4r/lib/python3.7/site-packages/matplotlib/axes/_axes.py\u001b[0m in \u001b[0;36m_parse_scatter_color_args\u001b[0;34m(c, edgecolors, kwargs, xshape, yshape, get_next_color_func)\u001b[0m\n\u001b[1;32m   4295\u001b[0m                         \u001b[0;34m\"acceptable for use with 'x' with size {xs}, \"\u001b[0m\u001b[0;34m\u001b[0m\u001b[0;34m\u001b[0m\u001b[0m\n\u001b[1;32m   4296\u001b[0m                         \u001b[0;34m\"'y' with size {ys}.\"\u001b[0m\u001b[0;34m\u001b[0m\u001b[0;34m\u001b[0m\u001b[0m\n\u001b[0;32m-> 4297\u001b[0;31m                             \u001b[0;34m.\u001b[0m\u001b[0mformat\u001b[0m\u001b[0;34m(\u001b[0m\u001b[0mnc\u001b[0m\u001b[0;34m=\u001b[0m\u001b[0mn_elem\u001b[0m\u001b[0;34m,\u001b[0m \u001b[0mxs\u001b[0m\u001b[0;34m=\u001b[0m\u001b[0mxsize\u001b[0m\u001b[0;34m,\u001b[0m \u001b[0mys\u001b[0m\u001b[0;34m=\u001b[0m\u001b[0mysize\u001b[0m\u001b[0;34m)\u001b[0m\u001b[0;34m\u001b[0m\u001b[0;34m\u001b[0m\u001b[0m\n\u001b[0m\u001b[1;32m   4298\u001b[0m                     )\n\u001b[1;32m   4299\u001b[0m                 \u001b[0;32melse\u001b[0m\u001b[0;34m:\u001b[0m\u001b[0;34m\u001b[0m\u001b[0;34m\u001b[0m\u001b[0m\n",
      "\u001b[0;31mValueError\u001b[0m: 'c' argument has 71 elements, which is not acceptable for use with 'x' with size 71, 'y' with size 71."
     ]
    },
    {
     "data": {
      "image/png": "[encoded data removed]",
      "text/plain": [
       "<Figure size 504x504 with 2 Axes>"
      ]
     },
     "metadata": {
      "needs_background": "light"
     },
     "output_type": "display_data"
    },
    {
     "data": {
      "image/png": "[encoded data removed]",
      "text/plain": [
       "<Figure size 1296x1296 with 1 Axes>"
      ]
     },
     "metadata": {
      "needs_background": "light"
     },
     "output_type": "display_data"
    }
   ],
   "source": [
    "for i in range(5):\n",
    "    visualize_attention_map(attribute,i,False,True,y=y)"
   ]
  },
  {
   "cell_type": "code",
   "execution_count": null,
   "metadata": {},
   "outputs": [],
   "source": []
  },
  {
   "cell_type": "code",
   "execution_count": 11,
   "metadata": {},
   "outputs": [],
   "source": [
    "# visualize_attention_map(attribute,1)"
   ]
  },
  {
   "cell_type": "code",
   "execution_count": 12,
   "metadata": {},
   "outputs": [],
   "source": [
    "# visualize_attention_map(attribute,0)"
   ]
  },
  {
   "cell_type": "code",
   "execution_count": 13,
   "metadata": {},
   "outputs": [],
   "source": [
    "# list(attribute[0].keys())[0]"
   ]
  },
  {
   "cell_type": "code",
   "execution_count": 12,
   "metadata": {},
   "outputs": [
    {
     "name": "stdout",
     "output_type": "stream",
     "text": [
      "(71, 71)\n",
      "torch.Size([71, 12]) torch.Size([2, 1505])\n",
      "torch.Size([1, 71, 12]) torch.Size([1, 2, 1505])\n",
      "torch.Size([71, 12]) torch.Size([2, 1505])\n",
      "torch.Size([1, 71, 12]) torch.Size([1, 2, 1505])\n"
     ]
    },
    {
     "name": "stderr",
     "output_type": "stream",
     "text": [
      "/anaconda2/envs/gcn4r/lib/python3.7/site-packages/gcn4r/models.py:126: UserWarning:\n",
      "\n",
      "nn.init.xavier_uniform is now deprecated in favor of nn.init.xavier_uniform_.\n",
      "\n",
      "/anaconda2/envs/gcn4r/lib/python3.7/site-packages/captum/attr/_utils/gradient.py:33: UserWarning:\n",
      "\n",
      "Input Tensor 0 did not already require gradients, required_grads has been set automatically.\n",
      "\n"
     ]
    }
   ],
   "source": [
    "# gcn4r train_model --custom_dataset lawyer --lambda_kl 0.0 --ae_type ARGA --lambda_adv 0.001 --lambda_cluster 1. --learning_rate 1e-2 --epoch_cluster 120 --K 2 --predict False\n",
    "# import torch\n",
    "import sys\n",
    "from gcn4r.api import get_data_model\n",
    "from gcn4r.api import interpret_model\n",
    "kwargs=dict(method=\"input_x_gradient\", custom_dataset='lawyer',\n",
    "\t\t\t\t\ttask='clustering',\n",
    "\t\t\t\t\trandom_seed=42,\n",
    "\t\t\t\t\tsparse_matrix=None,\n",
    "\t\t\t\t\tfeature_matrix=None,\n",
    "\t\t\t\t\tinitialize_spectral=False,\n",
    "\t\t\t\t\tencoder_base='GATConv',\n",
    "\t\t\t\t\tn_hidden=30,\n",
    "\t\t\t\t\tn_layers=4,\n",
    "\t\t\t\t\tdiscriminator_layers=[20,20],\n",
    "\t\t\t\t\tae_type='ARGA',\n",
    "\t\t\t\t\tbias=True,\n",
    "\t\t\t\t\tattention_heads=1,\n",
    "\t\t\t\t\tdecoder_type='inner',\n",
    "\t\t\t\t\tuse_mincut=False,\n",
    "\t\t\t\t\tK=2,\n",
    "\t\t\t\t\tNiter=10,\n",
    "\t\t\t\t\tval_ratio=0.,\n",
    "\t\t\t\t\ttest_ratio=0.,\n",
    "\t\t\t\t\tmodel_save_loc='saved_model.pkl', prediction_column='')\n",
    "attribute=interpret_model(**kwargs)\n",
    "\n"
   ]
  },
  {
   "cell_type": "code",
   "execution_count": 13,
   "metadata": {},
   "outputs": [],
   "source": [
    "import pandas as pd\n"
   ]
  },
  {
   "cell_type": "code",
   "execution_count": 14,
   "metadata": {},
   "outputs": [
    {
     "name": "stdout",
     "output_type": "stream",
     "text": [
      "(71, 71)\n"
     ]
    }
   ],
   "source": [
    "import copy\n",
    "kwargs2=copy.deepcopy(kwargs)\n",
    "del kwargs2['model_save_loc'], kwargs2['method']\n",
    "G,model,X,edge_index,edge_attr=get_data_model(**kwargs2)\n",
    "    "
   ]
  },
  {
   "cell_type": "code",
   "execution_count": 15,
   "metadata": {},
   "outputs": [],
   "source": [
    "# attribute['cluster_assignments']"
   ]
  },
  {
   "cell_type": "code",
   "execution_count": 16,
   "metadata": {},
   "outputs": [],
   "source": [
    "# attribute[i][0].detach().numpy()"
   ]
  },
  {
   "cell_type": "code",
   "execution_count": 17,
   "metadata": {},
   "outputs": [
    {
     "data": {
      "text/plain": [
       "<seaborn.matrix.ClusterGrid at 0x141933510>"
      ]
     },
     "execution_count": 17,
     "metadata": {},
     "output_type": "execute_result"
    },
    {
     "data": {
      "image/png": "[encoded data removed]",
      "text/plain": [
       "<Figure size 720x720 with 6 Axes>"
      ]
     },
     "metadata": {
      "needs_background": "light"
     },
     "output_type": "display_data"
    }
   ],
   "source": [
    "import matplotlib, seaborn as sns, numpy as np\n",
    "%matplotlib inline\n",
    "import matplotlib.pyplot as plt\n",
    "standard_scale=False\n",
    "feature_importances=np.stack([np.abs(attribute[i][0].detach().numpy()) for i in range(2)]).sum(0).sum(0)\n",
    "feature_importances/=feature_importances.max()/2\n",
    "cl=attribute['cluster_assignments'].detach().numpy().argmax(1)\n",
    "colors=sns.color_palette(\"cubehelix\", max(cl)+1)\n",
    "row_colors=[colors[c] for c in cl]\n",
    "cmap = sns.cubehelix_palette(dark=0.0,light=1.,rot=5, as_cmap=True)\n",
    "sns.clustermap(attribute[1][0].detach().numpy(),standard_scale=standard_scale,col_colors=[cmap(ft) for ft in feature_importances],row_colors=row_colors)\n",
    "#np.stack([(attribute[i][0]) for i in range(3)]).sum(0)\n",
    "\n"
   ]
  },
  {
   "cell_type": "code",
   "execution_count": 14,
   "metadata": {},
   "outputs": [
    {
     "data": {
      "text/plain": [
       "<seaborn.matrix.ClusterGrid at 0x14c97c810>"
      ]
     },
     "execution_count": 14,
     "metadata": {},
     "output_type": "execute_result"
    },
    {
     "data": {
      "image/png": "[encoded data removed]",
      "text/plain": [
       "<Figure size 720x720 with 6 Axes>"
      ]
     },
     "metadata": {
      "needs_background": "light"
     },
     "output_type": "display_data"
    }
   ],
   "source": [
    "sns.clustermap(X.numpy(),standard_scale=True,col_colors=[cmap(ft) for ft in feature_importances],row_colors=row_colors)\n"
   ]
  },
  {
   "cell_type": "code",
   "execution_count": null,
   "metadata": {},
   "outputs": [],
   "source": []
  },
  {
   "cell_type": "code",
   "execution_count": null,
   "metadata": {},
   "outputs": [],
   "source": []
  },
  {
   "cell_type": "code",
   "execution_count": null,
   "metadata": {},
   "outputs": [],
   "source": []
  },
  {
   "cell_type": "code",
   "execution_count": null,
   "metadata": {},
   "outputs": [],
   "source": []
  },
  {
   "cell_type": "code",
   "execution_count": null,
   "metadata": {},
   "outputs": [],
   "source": []
  }
 ],
 "metadata": {
  "kernelspec": {
   "display_name": "gcn4r",
   "language": "python",
   "name": "gcn"
  },
  "language_info": {
   "codemirror_mode": {
    "name": "ipython",
    "version": 3
   },
   "file_extension": ".py",
   "mimetype": "text/x-python",
   "name": "python",
   "nbconvert_exporter": "python",
   "pygments_lexer": "ipython3",
   "version": "3.7.6"
  }
 },
 "nbformat": 4,
 "nbformat_minor": 2
}
